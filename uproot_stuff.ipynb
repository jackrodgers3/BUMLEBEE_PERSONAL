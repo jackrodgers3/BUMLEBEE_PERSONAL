{
 "cells": [
  {
   "cell_type": "code",
   "execution_count": 3,
   "outputs": [
    {
     "data": {
      "text/plain": "                                                        \n0      [[[1.0135539770126343, 0.0020852265879511833, ...\n1      [[[1.0160226821899414, 0.00449544470757246, 0....\n2      [[[1.0139158964157104, 0.002490564249455929, 0...\n3      [[[1.009768009185791, 0.001774872769601643, 0....\n4      [[[1.0134762525558472, 0.0014828360872343183, ...\n...                                                  ...\n72074  [[[1.011828899383545, 0.003762698732316494, 0....\n72075  [[[1.0129014253616333, 0.002214568667113781, 0...\n72076  [[[1.012285828590393, 0.000918581266887486, 0....\n72077  [[[1.0162971019744873, 0.0040903156623244286, ...\n72078  [[[1.015446662902832, 0.003899223171174526, 0....\n\n[72079 rows x 1 columns]",
      "text/html": "<div>\n<style scoped>\n    .dataframe tbody tr th:only-of-type {\n        vertical-align: middle;\n    }\n\n    .dataframe tbody tr th {\n        vertical-align: top;\n    }\n\n    .dataframe thead th {\n        text-align: right;\n    }\n</style>\n<table border=\"1\" class=\"dataframe\">\n  <thead>\n    <tr style=\"text-align: right;\">\n      <th></th>\n      <th></th>\n    </tr>\n  </thead>\n  <tbody>\n    <tr>\n      <th>0</th>\n      <td>[[[1.0135539770126343, 0.0020852265879511833, ...</td>\n    </tr>\n    <tr>\n      <th>1</th>\n      <td>[[[1.0160226821899414, 0.00449544470757246, 0....</td>\n    </tr>\n    <tr>\n      <th>2</th>\n      <td>[[[1.0139158964157104, 0.002490564249455929, 0...</td>\n    </tr>\n    <tr>\n      <th>3</th>\n      <td>[[[1.009768009185791, 0.001774872769601643, 0....</td>\n    </tr>\n    <tr>\n      <th>4</th>\n      <td>[[[1.0134762525558472, 0.0014828360872343183, ...</td>\n    </tr>\n    <tr>\n      <th>...</th>\n      <td>...</td>\n    </tr>\n    <tr>\n      <th>72074</th>\n      <td>[[[1.011828899383545, 0.003762698732316494, 0....</td>\n    </tr>\n    <tr>\n      <th>72075</th>\n      <td>[[[1.0129014253616333, 0.002214568667113781, 0...</td>\n    </tr>\n    <tr>\n      <th>72076</th>\n      <td>[[[1.012285828590393, 0.000918581266887486, 0....</td>\n    </tr>\n    <tr>\n      <th>72077</th>\n      <td>[[[1.0162971019744873, 0.0040903156623244286, ...</td>\n    </tr>\n    <tr>\n      <th>72078</th>\n      <td>[[[1.015446662902832, 0.003899223171174526, 0....</td>\n    </tr>\n  </tbody>\n</table>\n<p>72079 rows × 1 columns</p>\n</div>"
     },
     "execution_count": 3,
     "metadata": {},
     "output_type": "execute_result"
    }
   ],
   "source": [
    "import pandas as pd\n",
    "file = pd.read_parquet(r\"C:\\Users\\jackm\\Downloads\\redictions.parquet\", engine='pyarrow')\n",
    "file"
   ],
   "metadata": {
    "collapsed": false,
    "ExecuteTime": {
     "end_time": "2024-03-18T15:48:41.996944600Z",
     "start_time": "2024-03-18T15:48:18.117125700Z"
    }
   }
  },
  {
   "cell_type": "code",
   "execution_count": null,
   "outputs": [],
   "source": [],
   "metadata": {
    "collapsed": false
   }
  }
 ],
 "metadata": {
  "kernelspec": {
   "display_name": "Python 3",
   "language": "python",
   "name": "python3"
  },
  "language_info": {
   "codemirror_mode": {
    "name": "ipython",
    "version": 2
   },
   "file_extension": ".py",
   "mimetype": "text/x-python",
   "name": "python",
   "nbconvert_exporter": "python",
   "pygments_lexer": "ipython2",
   "version": "2.7.6"
  }
 },
 "nbformat": 4,
 "nbformat_minor": 0
}
